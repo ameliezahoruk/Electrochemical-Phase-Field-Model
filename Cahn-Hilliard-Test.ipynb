{
 "cells": [
  {
   "cell_type": "code",
   "execution_count": null,
   "metadata": {},
   "outputs": [],
   "source": [
    "def gauss_seidel_1D(varphi, rho, maxiter = 10000, tol = 1e-4):\n",
    "    \n",
    "    # Get the length of potential array (1-D)\n",
    "    nx = len(varphi)\n",
    "    \n",
    "    # Iterate until convergence or maximum iterations reached\n",
    "    for it in range(maxiter):\n",
    "        varphi_old = varphi.copy()\n",
    "\n",
    "        varphi[0] = 0.0\n",
    "        \n",
    "        varphi[-1] = varphi[-2] + dx * i_a/sigma\n",
    "\n",
    "        # Update the potential using the Gauss-Seidel formula\n",
    "        for j in range(1, nx-1):\n",
    "                varphi[j] = 0.5 * (varphi_old[j+1] + varphi[j-1] - rho[j] * dx**2 / epsilon)\n",
    "        \n",
    "        # Check for convergence\n",
    "        if np.max(np.abs(varphi - varphi_old)) < tol:\n",
    "            print(f\"Converged after {it} iterations.\")\n",
    "            return varphi\n",
    "    \n",
    "    print(\"Maximum iterations reached without convergence.\")\n",
    "    return varphi"
   ]
  },
  {
   "cell_type": "code",
   "execution_count": 10,
   "metadata": {},
   "outputs": [
    {
     "name": "stdout",
     "output_type": "stream",
     "text": [
      "[0. 0. 0. 0. 0. 1. 1. 1. 1. 1.]\n"
     ]
    }
   ],
   "source": [
    "import numpy as np\n",
    "\n",
    "nx = 10\n",
    "\n",
    "c = np.heaviside(np.arange(0, 10, 1) - int(nx/2), 1)\n",
    "\n",
    "print(c)"
   ]
  },
  {
   "cell_type": "code",
   "execution_count": 63,
   "metadata": {},
   "outputs": [
    {
     "data": {
      "image/png": "[encoded data removed]",
      "text/plain": [
       "<Figure size 640x480 with 1 Axes>"
      ]
     },
     "metadata": {},
     "output_type": "display_data"
    }
   ],
   "source": [
    "import numpy as np\n",
    "import matplotlib.pyplot as plt\n",
    "\n",
    "\n",
    "# ------------------------------------------------------------------------------\n",
    "# Parameters & Constants for Phase-Field Model\n",
    "# ------------------------------------------------------------------------------\n",
    "\n",
    "M = 1.0 #mobility constant, m^5/(J*s)\n",
    "kappa = 4.0 #gradient energy constant, J/m\n",
    "xmax = 50.0 #physical domain size, m\n",
    "nx = 100 #number of spatial discretization points\n",
    "dx = xmax/(nx-1) #spatial discretization step, m\n",
    "x = np.linspace(-xmax/2, xmax/2, nx) #spatial grid\n",
    "dt = 0.01 #0.0271 #time step, s\n",
    "nsteps = 100000 #number of time steps\n",
    "trans = 12 #number of transition steps between two phases\n",
    "\n",
    "#intialize the composition field\n",
    "\n",
    "comp = np.zeros(nx) #composition field\n",
    "\n",
    "comp[0:int(nx/2 - trans/2)] = 0.0 #left phase\n",
    "\n",
    "comp[int(nx/2 + trans/2):nx] = 1.0 #right phase\n",
    "\n",
    "for i in range (trans):\n",
    "    comp[int(nx/2 - trans/2 + i)] = 1.0/trans * i #linear transition\n",
    "\n",
    "def laplacian(f, deltax): # for the cahn-hilliard equation\n",
    "    lap = np.zeros_like(f, dtype=float) #initialize the laplacian array\n",
    "    for i in range(2, len(f)-2):\n",
    "        lap[i] = (-f[i-2] + 16*f[i-1] - 30*f[i] + 16 * f[i+1] - f[i+2]) / 12 * (deltax ** 2)\n",
    "    lap[0] = lap[1] = lap[2]\n",
    "    lap[-1] = lap[-2] = lap[-3]\n",
    "    return lap\n",
    "# neumann\n",
    "\n",
    "for time in range(nsteps):\n",
    "    #for the Cahn-Hilliard equation (not species-specific)\n",
    "    #step 1: calculate the laplacian of the concentration field\n",
    "    lapc = laplacian(comp, dx)\n",
    "    #step 2: compute the chemical potential (composition) at each point\n",
    "    mu_comp = 4.0 * comp * (1.0 - comp) * (1.0 - 2.0 * comp) - kappa * lapc\n",
    "    #step 3: find the laplacian of the chemical potential\n",
    "    lap_mu = laplacian(mu_comp, dx)\n",
    "    #step 4: update  the concentration field 1: calculate the laplacian of the concentration field\n",
    "    comp += dt * M * lap_mu\n",
    "\n",
    "plt.plot(x, comp)\n",
    "plt.show()"
   ]
  },
  {
   "cell_type": "code",
   "execution_count": null,
   "metadata": {},
   "outputs": [],
   "source": []
  }
 ],
 "metadata": {
  "kernelspec": {
   "display_name": "Python 3",
   "language": "python",
   "name": "python3"
  },
  "language_info": {
   "codemirror_mode": {
    "name": "ipython",
    "version": 3
   },
   "file_extension": ".py",
   "mimetype": "text/x-python",
   "name": "python",
   "nbconvert_exporter": "python",
   "pygments_lexer": "ipython3",
   "version": "3.11.10"
  }
 },
 "nbformat": 4,
 "nbformat_minor": 2
}
