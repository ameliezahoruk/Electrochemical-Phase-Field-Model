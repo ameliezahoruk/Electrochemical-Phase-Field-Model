{
 "cells": [
  {
   "cell_type": "markdown",
   "id": "98a4e0f3",
   "metadata": {},
   "source": [
    "### Semi-implicit finite difference method ###"
   ]
  },
  {
   "cell_type": "markdown",
   "id": "6b5172a0",
   "metadata": {},
   "source": [
    "For this probelm, the free energy functional is given as:\n",
    "\n",
    "$$\\mathcal{F}=\\int_{x} F dx$$\n",
    "\n",
    "Where F, the free energy density, is made up of the chemical (bulk) and interfacial terms:\n",
    "\n",
    "$$F=A(c_i^n)^2(1-c_i^n)^2 + \\kappa|\\nabla c_i^n|^2$$"
   ]
  },
  {
   "cell_type": "markdown",
   "id": "3baab6af",
   "metadata": {},
   "source": [
    "The chemical potential, $\\mu$, is given as the variation dervative of F with respect to c:\n",
    "$$\\mu = \\frac{\\delta F}{\\delta c}$$"
   ]
  },
  {
   "cell_type": "markdown",
   "id": "47a4b5ac",
   "metadata": {},
   "source": [
    "Using the Euler Lagrange equation, we find $\\mu$ as:\n",
    "$$\\mu = \\frac{\\delta F}{\\delta c}=\\frac{\\partial F}{\\partial c}-\\vec{\\nabla}\\cdot\\left[\\frac{\\partial F}{\\partial \\nabla c}\\right]$$\n",
    "Applied to our equation:\n",
    "$$\\mu = 2Ac(1-c)(1-2c)-2\\kappa\\nabla^2c$$"
   ]
  },
  {
   "cell_type": "markdown",
   "id": "d22e9aaa",
   "metadata": {},
   "source": [
    "We are interested in modeling the phase evolution over time, which is given as:\n",
    "$$\\frac{\\partial c}{\\partial t}=M\\nabla^2\\mu$$"
   ]
  },
  {
   "cell_type": "markdown",
   "id": "06e2f1ec",
   "metadata": {},
   "source": [
    "Our $\\mu$ is made up of both linear and non-linear terms, so we want to handle it semi-implicitly. We will solve the non-linear term explicitly, and the linear term implicitly; i.e. the non-linear term will be evaluated at time $n$, while the linear term will be evaluated at time $n+1$.\n",
    "\n",
    "We can also write the change in phase composition over time as:\n",
    "$$\\frac{c_i^{n+1}-c_i^n}{\\Delta t}=M\\nabla^2\\mu_i^{n+1}$$"
   ]
  },
  {
   "cell_type": "markdown",
   "id": "7eb8ec54",
   "metadata": {},
   "source": [
    "Substituting in our expression for $\\mu$:\n",
    "$$\\frac{c_i^{n+1}-c_i^n}{\\Delta t}=M\\nabla^2\\left(2Ac_i^n(1-c_i^n)(1-2c_i^n)-2\\kappa\\nabla^2c_i^{n+1}\\right)$$"
   ]
  },
  {
   "cell_type": "markdown",
   "id": "3251bcb0",
   "metadata": {},
   "source": [
    "Which can be rearranged as:\n",
    "$$c_i^{n+1} =c_i^n + \\Delta tM\\nabla^2\\left(2Ac_i^n(1-c_i^n)(1-2c_i^n)-2\\kappa\\nabla^2c_i^{n+1}\\right)$$"
   ]
  },
  {
   "cell_type": "markdown",
   "id": "962c02b0",
   "metadata": {},
   "source": [
    "Moving both $c_i^{n+1}$ terms to the left side:\n",
    "$$c_i^{n+1}+2\\kappa\\Delta tM\\nabla^4 c_i^{n+1}=\\Delta t M\\nabla^2\\left(2Ac^n_i(1-c^n_i)(1-2c_i^n)\\right)$$"
   ]
  },
  {
   "cell_type": "markdown",
   "id": "b71fb22a",
   "metadata": {},
   "source": [
    "---"
   ]
  },
  {
   "cell_type": "markdown",
   "id": "b0de028b",
   "metadata": {},
   "source": [
    "### The Biharmonic Operator (fourth order derivatives) ###"
   ]
  },
  {
   "cell_type": "markdown",
   "id": "ffab42bf",
   "metadata": {},
   "source": [
    "The central (?) difference method allows for the approximation of $\\nabla^4$ of some function as:\n",
    "$$\\nabla^4c_i = \\frac{c_{i+2}-4c_{i+1}+6c_i-4c_{i-1}+c_{i+2}}{|\\Delta x|^4}"
   ]
  },
  {
   "cell_type": "code",
   "execution_count": 1,
   "id": "33140828",
   "metadata": {},
   "outputs": [],
   "source": [
    "import numpy as np\n",
    "import matplotlib.pyplot as plt"
   ]
  },
  {
   "cell_type": "code",
   "execution_count": 4,
   "id": "50962b77",
   "metadata": {},
   "outputs": [],
   "source": [
    "def biharmonic(f, dx):\n",
    "    h = np.zeros_like(f)\n",
    "    for i in range(2, len(f) - 2):\n",
    "        h[i] = (f[i + 2] - 4 * f[i + 1] + 6 * f[i] - 4 * f[i - 1] + f[i - 2]) / (dx ** 4)\n",
    "    return h"
   ]
  },
  {
   "cell_type": "markdown",
   "id": "3454ed04",
   "metadata": {},
   "source": [
    "Let's try comparing the numerical output from our function to a known analytical solution, using $x^4$."
   ]
  },
  {
   "cell_type": "code",
   "execution_count": null,
   "id": "d885f10c",
   "metadata": {},
   "outputs": [],
   "source": [
    "#testing the biharmonic function\n",
    "x = np.arange(0, 10.1, 0.1)\n",
    "print(x)\n",
    "g = x**4 #the fourth derivative of x^4 is 24\n",
    "print(g)\n",
    "g = np.array(g) #convert to numpy array\n",
    "\n",
    "test = biharmonic(g, 0.1) #should be 24, dx must be the grid spacing from x\n",
    "print(test) # this should be 24 with zeroes on the edges"
   ]
  },
  {
   "cell_type": "markdown",
   "id": "382ab6ee",
   "metadata": {},
   "source": [
    "### The Laplacian operator (second order derivatives) ###"
   ]
  },
  {
   "cell_type": "markdown",
   "id": "f53f2b21",
   "metadata": {},
   "source": [
    "The same can be done for the Laplacian operator, where $\\nabla^2$ is approximated as:\n",
    "$$ \\nabla^2 c_i^n= \\frac{c^n_{i+1}-2c^n_i+c^n_{i-1}}{|\\Delta x|^2}$$"
   ]
  },
  {
   "cell_type": "code",
   "execution_count": 77,
   "id": "726d8458",
   "metadata": {},
   "outputs": [],
   "source": [
    "def laplacian(f, dx):\n",
    "    lap = np.zeros_like(f)\n",
    "    for i in range(1, len(f)-1):\n",
    "        lap[i] = (f[i-1] - 2*f[i] + f[i+1]) / (dx ** 2)\n",
    "    return lap"
   ]
  },
  {
   "cell_type": "markdown",
   "id": "ce3f1522",
   "metadata": {},
   "source": [
    "Let's try comparing the numerical output from our function to a known analytical solution, using $x^2$."
   ]
  },
  {
   "cell_type": "code",
   "execution_count": null,
   "id": "550cffe8",
   "metadata": {},
   "outputs": [],
   "source": [
    "#testing the biharmonic function\n",
    "x = np.arange(0.0, 10.1, 0.1)\n",
    "print(x)\n",
    "g = x**2 #the second derivative of x^2 is 2\n",
    "g = np.array(g) #convert to numpy array\n",
    "\n",
    "test = laplacian(g, 0.1) #should be 2, dx must be the grid spacing from x\n",
    "print(test) # this should be 2 with zeroes on the edges"
   ]
  }
 ],
 "metadata": {
  "kernelspec": {
   "display_name": "Python 3",
   "language": "python",
   "name": "python3"
  },
  "language_info": {
   "codemirror_mode": {
    "name": "ipython",
    "version": 3
   },
   "file_extension": ".py",
   "mimetype": "text/x-python",
   "name": "python",
   "nbconvert_exporter": "python",
   "pygments_lexer": "ipython3",
   "version": "3.12.3"
  }
 },
 "nbformat": 4,
 "nbformat_minor": 5
}
