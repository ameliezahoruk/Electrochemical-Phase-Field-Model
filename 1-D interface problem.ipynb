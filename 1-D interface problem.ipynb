{
 "cells": [
  {
   "cell_type": "code",
   "execution_count": 316,
   "id": "0788aa13",
   "metadata": {},
   "outputs": [],
   "source": [
    "import numpy as np\n",
    "import matplotlib.pyplot as plt\n",
    "\n",
    "#parameters\n",
    "A = 1.0\n",
    "M = 1.0\n",
    "kappa = 1.0\n",
    "dt = 0.000001\n",
    "dx = 0.1\n",
    "grid = 64\n",
    "steps = 10000000"
   ]
  },
  {
   "cell_type": "code",
   "execution_count": null,
   "id": "dd4b5eaf",
   "metadata": {},
   "outputs": [],
   "source": [
    "init = []\n",
    "\n",
    "#initial concentration field\n",
    "for i in range(grid):\n",
    "    if i < grid/2:\n",
    "        init.append(0.0)\n",
    "    else:\n",
    "        init.append(1.0)\n",
    "\n",
    "#initial concentration field as an array\n",
    "#c = np.array(init,dtype=np.float64)\n",
    "\n",
    "#c = np.zeros(grid)\n",
    "#for i in range(grid):\n",
    "#    if i <= grid/2-10:\n",
    "#        c[i] = 0.0\n",
    "#    elif i >= grid/2+10:\n",
    "#        c[i] = 1.0\n",
    "#    else:\n",
    "#        c[i] = 0.0+1.0*(i+1.0-grid/2)/10.0\n",
    "interface_width = 10.0\n",
    "center = grid / 2\n",
    "x = np.arange(grid)\n",
    "c = np.clip((x - (center - interface_width / 2)) / interface_width, 0, 1)\n",
    "print(c)"
   ]
  },
  {
   "cell_type": "markdown",
   "id": "7023f284",
   "metadata": {},
   "source": [
    "### The Laplacian function ###\n",
    "\n",
    "What this does (in the space case, but can also be applied to the time case):\n",
    "$$ \\nabla^2 c_i^n= \\frac{c^n_{i+1}-2c^n_i+c^n_{i-1}}{\\Delta x^2}$$\n",
    "but only for the interior points in the array. \n",
    "In order to enforce boundary conditions, the output is intialized as an array of zeros (in the same shape as the input), and then the finite difference method is used to approximate the second derivative of the interior points. The array is modified to include these approximations, and giving the output."
   ]
  },
  {
   "cell_type": "code",
   "execution_count": null,
   "id": "16ee3637",
   "metadata": {},
   "outputs": [],
   "source": [
    "def laplacian_g(u):\n",
    "    u[0] = 0\n",
    "    #create an array of zeros with the same shape as u\n",
    "    lap = np.zeros_like(u)\n",
    "    #apply the finite diff erence method to the interior points, in order to respect the boundary conditions\n",
    "    lap[1:-1] = (u[:-2] - 2*u[1:-1] + u[2:]) / (dx*dx)\n",
    "    return lap\n",
    "\n",
    "def laplacian(u):\n",
    "    lap = np.zeros_like(u)\n",
    "    #print(len(lap))\n",
    "    onebydx2 =  1.0 / (dx * dx)\n",
    "    #print(onebydx2)\n",
    "    for i in range(1, grid-1):\n",
    "        lap[i] = (u[i-1] - 2*u[i] + u[i+1]) * onebydx2\n",
    "    return lap\n",
    "\n",
    "def laplacian_other(f): #5pt\n",
    "    # Initialisation of derivative\n",
    "    lap=np.zeros(grid) \n",
    "    # Calculation of 2nd derivative # Change the index to stay awway from the boundary  \n",
    "    for i in range (2, grid-2):\n",
    "        lap[i] = (-1./12 * f[i - 2] + 4./3  * f[i - 1] - 5./2 * f[i] \\\n",
    "                       +4./3  * f[i + 1] - 1./12  * f[i + 2]) / (dx * dx)\n",
    "    return lap\n",
    "\n"
   ]
  },
  {
   "cell_type": "markdown",
   "id": "a20c25cd",
   "metadata": {},
   "source": [
    "### The for loop ###"
   ]
  },
  {
   "cell_type": "markdown",
   "id": "f0021f16",
   "metadata": {},
   "source": [
    "At each time step, we want to update the concentration. The concentration, $c^{n+1}_i$, can be written, using the finite difference method, as\n",
    "\n",
    "$$ c_i^{n+1}=c_i^n+\\Delta t M \\nabla^2 \\mu^n_i$$\n",
    "\n",
    "This is dependent on the Laplacian (second derivative) of the chemical potential at point $n$ ($\\mu^n_i$), which is dependent on the chemical potentials at $n, n+1,$ and $ n-1$. The Laplacian of the chemical potential can be written as\n",
    "\n",
    "$$ \\nabla^2 \\mu_i^n= \\frac{\\mu^n_{i+1}-2\\mu^n_i+\\mu^n_{i-1}}{\\Delta x^2}$$"
   ]
  },
  {
   "cell_type": "markdown",
   "id": "d8d657ac",
   "metadata": {},
   "source": [
    "The chemical potential at point n, $\\mu^n_i$\n",
    "$$\\mu^n_i=2Ac_i^n(1-c^n_i)(1-2c^n_i)-2\\kappa\\nabla^2c^n_i$$"
   ]
  },
  {
   "cell_type": "markdown",
   "id": "7d5cf2c8",
   "metadata": {},
   "source": [
    "This is dependent on the Laplacian of the concentration at point n, which can be rewritten as\n",
    "$$ \\nabla^2 c_i^n= \\frac{c^n_{i+1}-2c^n_i+c^n_{i-1}}{\\Delta x^2}$$"
   ]
  },
  {
   "cell_type": "markdown",
   "id": "84e38ef6",
   "metadata": {},
   "source": [
    "In summary, we have:\n",
    "\n",
    "$$\\mu^n_i=2Ac_i^n(1-c^n_i)(1-2c^n_i)-2\\kappa\\frac{c^n_{i+1}-2c^n_i+c^n_{i-1}}{\\Delta x^2}$$\n",
    "\n",
    "which is then used to find the updated concentration:\n",
    "\n",
    "$$ c_i^{n+1}=c_i^n+\\Delta t M \\frac{\\mu^n_{i+1}-2\\mu^n_i+\\mu^n_{i-1}}{\\Delta x^2}$$\n",
    "\n",
    "\n",
    "\n"
   ]
  },
  {
   "cell_type": "markdown",
   "id": "2fd917e8",
   "metadata": {},
   "source": [
    "---\n",
    "\n",
    "__Implementing this in code:__\n",
    "\n",
    "__1)__ Find the Laplacian of the concentration (for every point in the grid):\n",
    "$$ \\nabla^2 c_i^n= \\frac{c^n_{i+1}-2c^n_i+c^n_{i-1}}{\\Delta x^2}$$\n",
    "\n",
    "__2)__ Compute the chemical potential at each point:\n",
    "$$\\mu^n_i=2Ac_i^n(1-c^n_i)(1-2c^n_i)-2\\kappa\\nabla^2c^n_i$$\n",
    "\n",
    "__3)__ Find the Laplacian of the chemical potential (for every point in the grid):\n",
    "$$ \\nabla^2 \\mu_i^n= \\frac{\\mu^n_{i+1}-2\\mu^n_i+\\mu^n_{i-1}}{\\Delta x^2}$$\n",
    "\n",
    "__4)__ Update the concentration at each point:\n",
    "$$ c_i^{n+1}=c_i^n+\\Delta t M \\nabla^2 \\mu^n_i$$"
   ]
  },
  {
   "cell_type": "code",
   "execution_count": null,
   "id": "66a425cb",
   "metadata": {},
   "outputs": [],
   "source": [
    "\n",
    "for time in range(steps):\n",
    "    #step 1: calculate the laplacian of the concentration field\n",
    "    lapc = laplacian(c)\n",
    "    #step 2: compute the chemical potential at each point\n",
    "    mu = 2.0 * A * c * (1.0 - c) * (1.0 - 2.0 * c) - 2.0 * kappa * lapc\n",
    "    #step 3: find the laplacian of the chemical potential\n",
    "    lap_mu = laplacian(mu)\n",
    "    #step 4: update  the concentration fieldp 1: calculate the laplacian of the concentration field\n",
    "    c += dt * M * lap_mu\n",
    "\n",
    "plt.plot(c,'.-')\n",
    "plt.show()"
   ]
  },
  {
   "cell_type": "code",
   "execution_count": null,
   "id": "326f6587",
   "metadata": {},
   "outputs": [],
   "source": [
    "print(c)\n",
    "print(len(c))"
   ]
  },
  {
   "cell_type": "markdown",
   "id": "ed16dbc2",
   "metadata": {},
   "source": [
    "### Finding the free energy ###\n",
    "\n",
    "The free energy functional is given as:\n",
    "\n",
    "$$\\mathcal{F}=\\int_{x} F dx$$\n",
    "\n",
    "Where F, the free energy density, is made up of the chemical (bulk) and interfacial terms:\n",
    "\n",
    "$$F=A(c_i^n)^2(1-c_i^n)^2 + \\kappa|\\nabla c_i^n|^2$$\n",
    "\n",
    "Where the second term can be rewritten as:\n",
    "$$\\kappa|\\nabla c_i^n|^2 = \\kappa \\nabla c_i^n \\cdot \\nabla c_i^n$$\n",
    "\n",
    "Using the finite difference method, we can approximate $\\nabla c^n_i$ as:\n",
    "$$\\nabla c_i^n = \\frac{c_i^{n+1}-c_i^{n-1}}{2\\Delta x}$$\n",
    "\n",
    "To find the free energy of the system at each time step, we can approximate the integral by summing the free energy density at each grid point, then multiplying by the grid cell length.\n",
    "$$\\mathcal{F}_{sys} = \\sum_{n=1}^{grid} \\left(A(c_i^n)^2(1-c_i^n)^2 + \\kappa|\\nabla c_i^n|^2\\right)\\Delta x$$"
   ]
  },
  {
   "cell_type": "markdown",
   "id": "19dd477c",
   "metadata": {},
   "source": [
    "---"
   ]
  },
  {
   "cell_type": "markdown",
   "id": "96d05308",
   "metadata": {},
   "source": [
    "### The gradient function ###\n",
    "\n",
    "What this does (in the space case, but can also be applied to the time case):\n",
    "$$\\nabla c_i^n = \\frac{c_i^{n+1}-c_i^{n-1}}{2\\Delta x}$$\n",
    "but only for the interior points in the array. \n",
    "In order to enforce boundary conditions, the output is intialized as an array of zeros (in the same shape as the input), and then the finite difference method is used to approximate the second derivative of the interior points. The array is modified to include these approximations, and giving the output."
   ]
  },
  {
   "cell_type": "code",
   "execution_count": 321,
   "id": "bcbb5e7e",
   "metadata": {},
   "outputs": [],
   "source": [
    "def gradient(u):\n",
    "    #create an array of zeros with the same shape as u\n",
    "    grad = np.zeros_like(u)\n",
    "    #apply the finite difference method to the interior points, in order to respect the boundary conditions\n",
    "    grad[1:-1] = (u[2:] - u[:-2]) / (2*dx)\n",
    "    return grad"
   ]
  },
  {
   "cell_type": "markdown",
   "id": "e8ee356e",
   "metadata": {},
   "source": [
    "Reinitializing the field:"
   ]
  },
  {
   "cell_type": "code",
   "execution_count": 322,
   "id": "888ca202",
   "metadata": {},
   "outputs": [],
   "source": [
    "init = []\n",
    "\n",
    "#initial concentration field\n",
    "for i in range(grid):\n",
    "    if i < grid/2:\n",
    "        init.append(0)\n",
    "    else:\n",
    "        init.append(1)\n",
    "\n",
    "#initial concentration field as an array\n",
    "c = np.array(init, dtype=float) "
   ]
  },
  {
   "cell_type": "markdown",
   "id": "ccde9470",
   "metadata": {},
   "source": [
    "__Implementing free energy calculation as an extension to the previous for loop:__\n",
    "\n",
    "__5)__ Find the gradient of the concentration field using the finite difference method:\n",
    "\n",
    "$$\\nabla c_i^n = \\frac{c_i^{n+1}-c_i^{n-1}}{2\\Delta x}$$\n",
    "\n",
    "__6)__ Find the free energy density at each point:\n",
    "$$F=A(c_i^n)^2(1-c_i^n)^2 + \\kappa\\left(\\frac{c_i^{n+1}-c_i^{n-1}}{2\\Delta x}\\cdot\\frac{c_i^{n+1}-c_i^{n-1}}{2\\Delta x}\\right)$$\n",
    "\n",
    "__7)__ Find the total free energy:\n",
    "$$\\mathcal{F}_{sys} = \\sum_{n=1}^{grid} \\left(A(c_i^n)^2(1-c_i^n)^2 + \\kappa\\left(\\frac{c_i^{n+1}-c_i^{n-1}}{2\\Delta x}\\cdot\\frac{c_i^{n+1}-c_i^{n-1}}{2\\Delta x}\\right)\\right)\\Delta x$$"
   ]
  },
  {
   "cell_type": "code",
   "execution_count": null,
   "id": "6257f8f9",
   "metadata": {},
   "outputs": [],
   "source": [
    "for time in range(steps):\n",
    "    #step 1: calculate the laplacian of the concentration field\n",
    "    lap = laplacian(c)\n",
    "    #step 2: compute the chemical potential at each point\n",
    "    mu = 2 * A * c * (1 - c) * (1 - 2 * c) - 2 * kappa * lap\n",
    "    #step 3: find the laplacian of the chemical potential\n",
    "    lap_mu = laplacian(mu)\n",
    "    #step 4: update the concentration field\n",
    "    c += dt * M * lap_mu\n",
    "    #step 5: calculate the gradient of the concentration field\n",
    "    grad_c = gradient(c)\n",
    "    #step 6: calculate the free energy density\n",
    "    interfacial = kappa * (grad_c**2)\n",
    "    chemical =  A * c **2 * (1 - c) ** 2\n",
    "    total = interfacial + chemical\n",
    "    #step 7: calculate the total free energy\n",
    "    free_energy = np.sum(total) * dx\n",
    "    print(free_energy)\n"
   ]
  },
  {
   "cell_type": "code",
   "execution_count": null,
   "id": "13e19264",
   "metadata": {},
   "outputs": [],
   "source": [
    "#parameters\n",
    "L = 10.0 #length of the domain\n",
    "dx = 0.1 #cell size\n",
    "x = np.arange(0, L, 0.1) #grid points\n",
    "\n",
    "#initial condition\n",
    "c = []\n",
    "for i in range(len(x)):\n",
    "    if x[i] < (L / 2 - 1.0):\n",
    "        c.append(0.0)\n",
    "    elif (L / 2 - 1.0) == x[i]:\n",
    "        c.extend(np.arange(0.05, 1.05, 0.05))\n",
    "    elif x[i] >= (L / 2 + 1.0):\n",
    "        c.append(1.0)\n",
    "\n",
    "c = np.array(c) #convert to numpy array\n",
    "\n",
    "print(c)\n",
    "\n",
    "#test = biharmonic(c, dx)\n",
    "\n",
    "#print(test)\n",
    "\n",
    "plt.plot(x, c, \".-\", label='Initial Condition')\n",
    "plt.legend()\n",
    "plt.show()\n"
   ]
  }
 ],
 "metadata": {
  "kernelspec": {
   "display_name": "Python 3",
   "language": "python",
   "name": "python3"
  },
  "language_info": {
   "codemirror_mode": {
    "name": "ipython",
    "version": 3
   },
   "file_extension": ".py",
   "mimetype": "text/x-python",
   "name": "python",
   "nbconvert_exporter": "python",
   "pygments_lexer": "ipython3",
   "version": "3.12.3"
  }
 },
 "nbformat": 4,
 "nbformat_minor": 5
}
