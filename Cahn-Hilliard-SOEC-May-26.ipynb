{
 "cells": [
  {
   "cell_type": "markdown",
   "id": "54154df6",
   "metadata": {},
   "source": [
    "# Phase-field modelling of vacancy diffusion in the anode-electrolyte interface #\n",
    "---"
   ]
  },
  {
   "cell_type": "markdown",
   "id": "0376a659",
   "metadata": {},
   "source": [
    "## 1) Phase-field Modelling & the Cahn-Hilliard Equation ##"
   ]
  },
  {
   "cell_type": "markdown",
   "id": "25ed6fbe",
   "metadata": {},
   "source": [
    "We can define a composition parameter, C, to distinguish the two regions, where\n",
    "\n",
    "$ C = 0 $ in the bulk electrolyte\n",
    "\n",
    "$ C = 1 $ in the bulk electrode\n",
    "\n",
    "$ 0 < C < 1 $ across the interface"
   ]
  },
  {
   "cell_type": "markdown",
   "id": "c77b8b93",
   "metadata": {},
   "source": [
    "Phase evolution of the composition parameter can be described by the Cahn-Hilliard equation:\n",
    "\n",
    "$$ \\frac{\\partial C}{\\partial t} = M\\nabla^2 \\mu $$\n",
    "\n",
    "- $\\mu$ is the chemical potential \n",
    "- $M$ is the mobility"
   ]
  },
  {
   "cell_type": "markdown",
   "id": "dad8e82a",
   "metadata": {},
   "source": [
    "The chemical potential, $\\mu$, can be found from the free energy functional, which is given as:\n",
    "\n",
    "$$ \\mathcal{F} = \\int (f(C)+\\frac{\\kappa}{2}|\\nabla C|^2) dV $$\n",
    "\n",
    "The integrand is the free energy density, $F(C)$, i.e.\n",
    "\n",
    "$$ F(C) = f(C) + \\frac{\\kappa}{2}|\\nabla C|^2 $$\n",
    "\n",
    "- The first term, f(C), is a double well potential which encourages phase separation, \n",
    "- The second term (the interfacial term) penalizes sharp gradients.\n",
    "    - $\\kappa$ is the interfacial gradient"
   ]
  },
  {
   "cell_type": "markdown",
   "id": "2b247675",
   "metadata": {},
   "source": [
    "In our case, the double well potential, $f(C)$, is given as:\n",
    "\n",
    "$$ f(C) = 2C^2(1-C)^2 $$\n",
    "\n",
    "- $f(C)$ has minima at both $C = 0$ and $C = 1$"
   ]
  },
  {
   "cell_type": "markdown",
   "id": "b7a5cc00",
   "metadata": {},
   "source": [
    "Using the variational derivative, we can find the chemical potential:\n",
    "\n",
    "$$ \\mu = \\frac{\\delta F}{\\delta C} = \\frac{\\partial F}{\\partial C} - \\vec \\nabla \\left(\\frac{\\partial F}{\\partial \\nabla C}\\right)$$"
   ]
  },
  {
   "cell_type": "markdown",
   "id": "573c83e3",
   "metadata": {},
   "source": [
    "This gives our chemical potential as:\n",
    "\n",
    "$$ \\mu = 4C(1-C)(1-2C)-\\kappa\\nabla^2 C $$"
   ]
  },
  {
   "cell_type": "markdown",
   "id": "dfa48a04",
   "metadata": {},
   "source": [
    "And thus, our Cahn-Hilliard equation can be written as:\n",
    "\n",
    "$$ \\frac{\\partial C}{\\partial t} = M \\nabla^2 (4C(1-C)(1-2C)-\\kappa\\nabla^2C) $$"
   ]
  },
  {
   "cell_type": "markdown",
   "id": "e78658d8",
   "metadata": {},
   "source": [
    "This represents the phase evolution within our system."
   ]
  },
  {
   "cell_type": "markdown",
   "id": "f16c6bab",
   "metadata": {},
   "source": [
    "**How do we approximate this?**\n",
    "\n",
    "At each time step, we want to update the concentration. The concentration, $c^{n+1}_i$, can be written, using the finite difference method, as\n",
    "\n",
    "$$ c_i^{n+1}=c_i^n+\\Delta t M \\nabla^2 \\mu^n_i$$\n",
    "\n",
    "This is dependent on the Laplacian (second derivative) of the chemical potential at point $n$ ($\\mu^n_i$), which is dependent on the chemical potentials at $n, n+1,$ and $ n-1$. The Laplacian of the chemical potential can be written as\n",
    "\n",
    "$$ \\nabla^2 \\mu_i^n= \\frac{\\mu^n_{i+1}-2\\mu^n_i+\\mu^n_{i-1}}{\\Delta x^2}$$\n",
    "\n",
    "The chemical potential at point n, $\\mu^n_i$\n",
    "$$\\mu^n_i=2Ac_i^n(1-c^n_i)(1-2c^n_i)-2\\kappa\\nabla^2c^n_i$$\n",
    "\n",
    "This is dependent on the Laplacian of the concentration at point n, which can be rewritten as\n",
    "$$ \\nabla^2 c_i^n= \\frac{c^n_{i+1}-2c^n_i+c^n_{i-1}}{\\Delta x^2}$$\n",
    "\n",
    "In summary, we have:\n",
    "\n",
    "$$\\mu^n_i=2Ac_i^n(1-c^n_i)(1-2c^n_i)-2\\kappa\\frac{c^n_{i+1}-2c^n_i+c^n_{i-1}}{\\Delta x^2}$$\n",
    "\n",
    "which is then used to find the updated concentration:\n",
    "\n",
    "$$ c_i^{n+1}=c_i^n+\\Delta t M \\frac{\\mu^n_{i+1}-2\\mu^n_i+\\mu^n_{i-1}}{\\Delta x^2}$$"
   ]
  },
  {
   "cell_type": "markdown",
   "id": "bc4ae770",
   "metadata": {},
   "source": [
    "---\n",
    "## 2) Electrochemical Potential in the System ##"
   ]
  },
  {
   "cell_type": "markdown",
   "id": "3b127658",
   "metadata": {},
   "source": [
    "The **electro**chemical potential of each species $i$ can be defined as:\n",
    "\n",
    "$$ \\bar \\mu_i = \\mu_i^o + k_B T (\\ln a_i) + z_i e \\varphi, \\ i\\in \\{V_O^{\\cdot \\cdot}, e', Y'_Zr\\} $$\n",
    "\n",
    "- $k_B$ is Boltzmann's constant\n",
    "- $T$ is temperature\n",
    "- $z_i$ is the species charge (per ion)\n",
    "- $e$ is the elementary charge\n",
    "- $\\varphi$ is the electrostatic potential\n",
    "- $a_i$ is the activity of species $i$, where $a_i = \\gamma _i \\Chi _i = \\gamma _i c_i V_0$\n",
    "    - $\\Chi _i$ is the molar fraction\n",
    "    - $\\gamma _i$ is the activity coefficient\n",
    "    - $c_i$ is the molar concentration\n",
    "    - $V_0$ is the molar volume (we assume constant)\n",
    "- **Note that both the electrode and electrolyte are considered ideal solutions, with $\\gamma _i = 1$**"
   ]
  },
  {
   "cell_type": "markdown",
   "id": "9cecb3e5",
   "metadata": {},
   "source": [
    "---\n",
    "#### The gradient of the electrochemical potential can be split into chemical, concentration, and electrostatic gradient terms. ####\n",
    "---"
   ]
  },
  {
   "cell_type": "markdown",
   "id": "519da945",
   "metadata": {},
   "source": [
    "**(1)** The chemical potential of any species $i$ will vary depending on the phase which contains it. An interpolation is used to define the standard chemical potential across the interface:\n",
    "\n",
    "$$ \\mu_i^o = \\mu_i^{o, YSZ} + \\left(\\mu_i^{o, anode}-\\mu_i^{o, YSZ}\\right) h (C) $$\n",
    "\n",
    "With the interpolation function, h(C), given as:\n",
    "\n",
    "$$ h(C) = C^3(6C^2-15C+10) $$"
   ]
  },
  {
   "cell_type": "markdown",
   "id": "2297852a",
   "metadata": {},
   "source": [
    "**(2)** The overall flux and mass transport of each species in the system is driven, in part, by the electrostatic potential. The electrostatic potential also contributes to the electrochemical potential, $\\mu$\n",
    "\n",
    "The gradient is found using **Poisson's Equation**:\n",
    "\n",
    "$$\\nabla \\cdot (\\varepsilon _0\\varepsilon _r \\nabla \\varphi) = - \\rho $$\n",
    "\n",
    "- $\\varphi$ is the electrostatic potential\n",
    "- $ \\varepsilon _0$ is the vacuum permittivity\n",
    "- $ \\varepsilon _r$ is the relative permittivity, assumed independent of C\n",
    "- $\\rho$ is the total charge density\n",
    "\n",
    "The total charge density, $\\rho$, is defined as the following:\n",
    "\n",
    "$$ \\rho = e N_A \\sum_i z_i c_i(x)$$\n",
    "\n",
    "- $e$ is the elementary charge\n",
    "- $N_A$ is Avogadro's number\n",
    "- $z_i$ is the charge of species $i$\n",
    "- $c_i$ is the molar concentration of species $i$"
   ]
  },
  {
   "cell_type": "markdown",
   "id": "1c002c10",
   "metadata": {},
   "source": [
    "## 3) Species Flux ##"
   ]
  },
  {
   "cell_type": "markdown",
   "id": "c2e83904",
   "metadata": {},
   "source": [
    "An equation can now be written for the flux of each species $i$."
   ]
  },
  {
   "cell_type": "markdown",
   "id": "cec4623c",
   "metadata": {},
   "source": [
    "The general expression is given as:\n",
    "$$\\textbf{J}_i = -D_i c_i \\nabla \\left(\\frac{\\bar\\mu_i}{k_B T}\\right)"
   ]
  },
  {
   "cell_type": "markdown",
   "id": "4aef1323",
   "metadata": {},
   "source": [
    "Breaking up the electrochemical potential gradient (as we showed earlier), can give the flux equation as:"
   ]
  },
  {
   "cell_type": "markdown",
   "id": "d7b956c1",
   "metadata": {},
   "source": [
    "$$\\textbf{J}_i = - \\frac{D_i c_i}{k_B T}\\nabla\\mu ^0_i - D_i\\nabla c_i(x, t)-\\frac{D_i z_i e c_i}{k_B T}\\nabla \\varphi $$\n",
    "\n",
    "- $D_i$ is the self-diffusivity of species $i$"
   ]
  },
  {
   "cell_type": "markdown",
   "id": "b2d0daf1",
   "metadata": {},
   "source": [
    "### Summary of flux expression terms ###\n",
    "| Term                                      | Source |\n",
    "|-------------------------------------------|---------------------------------|\n",
    "|$\\frac{D_i c_i}{k_B T}\\nabla\\mu ^0_i$      | chemical potential gradient     |\n",
    "|$D_i\\nabla c_i(x, t) $                     | concentration gradient          |\n",
    "|$\\frac{D_i z_i e c_i}{k_B T}\\nabla \\varphi$| electromigration against electrostatic potential gradient|"
   ]
  },
  {
   "cell_type": "markdown",
   "id": "8bb628f4",
   "metadata": {},
   "source": [
    "## 4) Diffusion Equation ##"
   ]
  },
  {
   "cell_type": "markdown",
   "id": "df17cadc",
   "metadata": {},
   "source": [
    "The mass conservation equation is simply the negative divergence of the flux, with an adjustment for the interface reaction."
   ]
  },
  {
   "cell_type": "markdown",
   "id": "8934fada",
   "metadata": {},
   "source": [
    "$$\\frac{\\partial c_i(x,t)}{\\partial t} = - \\nabla \\cdot J_i - R_i^{3PB}K\\Lambda _C$$"
   ]
  },
  {
   "cell_type": "markdown",
   "id": "422a9eda",
   "metadata": {},
   "source": [
    "**The sink term:**\n",
    "\n",
    "- This term is included to account for the oxygen oxidation reaction that occurs at the interface (i.e. $O^{\\times}_{O, YSZ}\\rightarrow \\frac{1}{2}O_2 + 2e' + V_{O, YSZ}^{\\cdot \\cdot}$)\n",
    "\n",
    "$$ R = R_i^{3PB}K\\Lambda _C $$\n",
    "\n",
    "- $R_i^{3PB}$ is the rate constant for the interface reaction\n",
    "    - $R_i^{3PB} = |\\frac{i_a}{N_A e z_i}|$ for $V_O^{\\cdot \\cdot}$, $e'$\n",
    "        - $i_a = e N_A \\sum_{i} z_i J_i$\n",
    "    - $R_i^{3PB} = 0$ for $Y_{Zr}'$\n",
    "- $K$ is the effective length scale over which the reaction occurs\n",
    "- $\\Lambda _C$ is the interface reaction locator function, $\\Lambda_C = C^2(1-C)^2$\n",
    "\n",
    "**Notes:** \n",
    "- The rate constant can be kept the same while integrating the sink term by defining $K = 1/{\\int_{-\\infty}^{+\\infty}\\Lambda _C dx}$\n",
    "- The interface locator function keeps any occurence of nonzero values of the sink term at the interface (i.e. it will only have an effect if C $\\neq$ 0 or 1)"
   ]
  },
  {
   "cell_type": "markdown",
   "id": "88fc4f28",
   "metadata": {},
   "source": [
    "We then get our final diffusion equation for any species $i$ as:\n",
    "$$\\frac{\\partial c_i(x,t)}{\\partial t} = \\nabla \\cdot \\frac{D_i c_i}{k_B T}\\nabla\\mu ^0_i + \\nabla \\cdot D_i\\nabla c_i(x, t) + \\nabla \\cdot\\frac{D_i z_i e c_i}{k_B T}\\nabla \\varphi - R_i^{3PB}K\\Lambda _C$$"
   ]
  },
  {
   "cell_type": "markdown",
   "id": "85669efa",
   "metadata": {},
   "source": [
    "## 5) Implementation - Phase Field ##"
   ]
  },
  {
   "cell_type": "markdown",
   "id": "271f9f09",
   "metadata": {},
   "source": [
    "---\n",
    "### The Laplacian operator (second order derivatives) ###\n",
    "---\n",
    "\n",
    "The same can be done for the Laplacian operator, where $\\nabla^2$ is approximated as:\n",
    "$$ \\nabla^2 c_i^n= \\frac{c^n_{i+1}-2c^n_i+c^n_{i-1}}{|\\Delta x|^2}$$\n",
    "\n",
    "For the bulk free energy term:\n",
    "$$ \\nabla^2 f'(c_i^n) = \\frac{f'(c^n_{i+1})-2f'(c^n_i)+f'(c^n_{i-1})}{|\\Delta x|^2}$$"
   ]
  },
  {
   "cell_type": "markdown",
   "id": "e3aab1fc",
   "metadata": {},
   "source": [
    "---\n",
    "### **Initialization** ###\n",
    "---\n",
    "\n",
    "We can initialize the array of the composition parameter, $C(x, t)$.\n",
    "\n",
    "- The first half, minus half the allocated number of transition points, is set to 0.0\n",
    "\n",
    "- The transition region is set to contain values between 0.0 and 1.0, evenly spaced by the number of desired transition points (-1)\n",
    "\n",
    "- The second half, minus the other half of the allocated number of transition points, is set to 1.0"
   ]
  },
  {
   "cell_type": "markdown",
   "id": "796d1137",
   "metadata": {},
   "source": [
    "---\n",
    "### **The For Loop -> Phase-Field** ###\n",
    "---"
   ]
  },
  {
   "cell_type": "markdown",
   "id": "797e00be",
   "metadata": {},
   "source": [
    "__Implementing this in code:__\n",
    "\n",
    "__1)__ Find the Laplacian of the concentration (for every point in the grid):\n",
    "$$ \\nabla^2 c_i^n= \\frac{c^n_{i+1}-2c^n_i+c^n_{i-1}}{\\Delta x^2}$$\n",
    "\n",
    "__2)__ Compute the chemical potential at each point:\n",
    "$$\\mu^n_i=2Ac_i^n(1-c^n_i)(1-2c^n_i)-2\\kappa\\nabla^2c^n_i$$\n",
    "\n",
    "__3)__ Find the Laplacian of the chemical potential (for every point in the grid):\n",
    "$$ \\nabla^2 \\mu_i^n= \\frac{\\mu^n_{i+1}-2\\mu^n_i+\\mu^n_{i-1}}{\\Delta x^2}$$\n",
    "\n",
    "__4)__ Update the concentration at each point:\n",
    "$$ c_i^{n+1}=c_i^n+\\Delta t M \\nabla^2 \\mu^n_i$$"
   ]
  },
  {
   "cell_type": "markdown",
   "id": "896d2794",
   "metadata": {},
   "source": [
    "---"
   ]
  },
  {
   "cell_type": "markdown",
   "id": "0accb18b",
   "metadata": {},
   "source": [
    "## 6) Implementation - Species Diffusion ##"
   ]
  },
  {
   "cell_type": "markdown",
   "id": "9dd4d85b",
   "metadata": {},
   "source": [
    "---\n",
    "### **Initialization** ###\n",
    "---"
   ]
  },
  {
   "cell_type": "markdown",
   "id": "43e2f3f4",
   "metadata": {},
   "source": [
    "**Concentrations:**\n",
    "\n",
    "The concentration of each species (mol/m^3) are intialized as follows:\n",
    "\n",
    "**In the electrolyte:** \n",
    "\n",
    "$c_{V_O^{\\cdot \\cdot}} = 830 $ \n",
    "\n",
    "$c_{e'} = 0$\n",
    "\n",
    "$c_{Y'_Zr} = 1660$\n",
    "\n",
    "**In the anode:** \n",
    "\n",
    "$c_{V_O^{\\cdot \\cdot}} = 83 $ \n",
    "\n",
    "$c_{e'} = 166$\n",
    "\n",
    "$c_{Y'_Zr} = 0$\n",
    "\n",
    "|   | Concentration | (mol/m^3) |\n",
    "|---|---------------|---------|\n",
    "|Species| Electrolyte | Cathode |\n",
    "|${V_O^{\\cdot \\cdot}}$ | 830 | 83 |"
   ]
  },
  {
   "cell_type": "markdown",
   "id": "6c8d9872",
   "metadata": {},
   "source": [
    "**Electrostatic Potential:**\n",
    "\n",
    "The electrostatic potential is initialized at zero across the domain, i.e. $\\varphi = 0$ at every point $x$.\n"
   ]
  },
  {
   "cell_type": "markdown",
   "id": "30e3a5fe",
   "metadata": {},
   "source": [
    "---\n",
    "### **The For Loop -> Species Diffusion** ###\n",
    "---"
   ]
  },
  {
   "cell_type": "markdown",
   "id": "97986cdc",
   "metadata": {},
   "source": [
    "---\n",
    "### a) Electrostatic Potential and Charge Density; $\\varphi$ and $\\rho$ ###\n",
    "---"
   ]
  },
  {
   "cell_type": "markdown",
   "id": "50ba33f2",
   "metadata": {},
   "source": [
    "**Boundary Conditions:**\n",
    "\n",
    "At the electrolyte boundary, $\\varphi = 0$ - Dirichlet boundary condition\n",
    "\n",
    "At the anode boundary, $\\frac{\\partial \\varphi}{\\partial x} = \\frac{i_a}{\\sigma}$, where $\\sigma$ is the conductivity - Neumann boundary condition"
   ]
  },
  {
   "cell_type": "markdown",
   "id": "4bedea7f",
   "metadata": {},
   "source": [
    "At each time step,\n",
    "\n",
    "**Step 1)** \n",
    "\n",
    "Find the value of $\\rho$ at every point x:\n",
    "\n",
    "$$ \\rho(x) = e N_A \\sum_i z_i c_i(x)$$\n",
    "\n",
    "- This is done as an array operation\n",
    "\n",
    "**Step 2)** \n",
    "\n",
    "Use the Gauss-Seidel method to find solve Poisson's equation for the updated electrostatic potential, $\\varphi$\n",
    "\n",
    "Poisson's equation:\n",
    "\n",
    "$$\\nabla \\cdot (\\varepsilon _0\\varepsilon _r \\nabla \\varphi) = - \\rho_j $$ \n",
    "\n",
    "$$ \\nabla^2 \\varphi = \\frac{-\\rho_j}{\\varepsilon _0 \\varepsilon _r} $$\n",
    "\n",
    "\n",
    "\n",
    "Gauss-Seidel method:\n",
    "\n",
    "$$ \\frac{ \\varphi_{j+1} - 2 \\varphi_j + \\varphi_{j-1}}{dx^2} = \\frac{-\\rho_j}{\\varepsilon _0 \\varepsilon _r} $$\n",
    "\n",
    "$$ \\varphi_j^{n+1} = \\frac{1}{2} \\left( \\varphi^n_{j+1} + \\varphi^{n+1}_{j-1}- \\frac{\\rho_j dx^2}{\\varepsilon _0 \\varepsilon _r} \\right)$$\n",
    "\n",
    "We find the difference of our new array of updated electrostatic potential values and the old values, iterating (updating) until that difference is less than our tolerance.\n"
   ]
  },
  {
   "cell_type": "markdown",
   "id": "58b608da",
   "metadata": {},
   "source": [
    "---\n",
    "### b) Standard Chemical Potential, $\\mu_i^o$ ###\n",
    "---"
   ]
  },
  {
   "cell_type": "markdown",
   "id": "d61d8661",
   "metadata": {},
   "source": [
    "At each time step,\n",
    "\n",
    "**Step 1)**\n",
    "\n",
    "Compute the interpolation function, $h(C)$, from the composition value $C$ at each point in the domain.\n",
    "\n",
    "Recall:\n",
    "$$ h(C) = C^3(6C^2-15C+10) $$\n",
    "\n",
    "**Step 2)** \n",
    "\n",
    "Compute the standard chemical potential for each species at each point in the domain, based on the standard chemical potentials in the bulk phases and the interpolation function.\n",
    "\n",
    "Recall:\n",
    "$$ \\mu_i^o = \\mu_i^{o, YSZ} + \\left(\\mu_i^{o, anode}-\\mu_i^{o, YSZ}\\right) h (C) $$\n"
   ]
  },
  {
   "cell_type": "markdown",
   "id": "6ba1540f",
   "metadata": {},
   "source": [
    "---\n",
    "### c) Diffusion, $\\frac{\\partial c}{\\partial t}$ ###\n",
    "---"
   ]
  },
  {
   "cell_type": "markdown",
   "id": "96feae25",
   "metadata": {},
   "source": [
    "**Boundary Conditions:**\n",
    "\n",
    "For $c_i$, the boundary conditions are defined for each species for each side of the system - these are **Neumann** boundary conditions\n",
    "\n",
    "At the electrolyte side:\n",
    "\n",
    "- $J_{Y_{Zr}'} = J_{e'} = 0$\n",
    "- $J_{V_O^{\\cdot \\cdot}} = - \\frac{i_a}{z_i e N_A}$\n",
    "\n",
    "At the anode side:\n",
    "\n",
    "- $J_{Y_{Zr}'} = J_{V_O^{\\cdot \\cdot}} = 0$\n",
    "- $J_{e'} = - \\frac{i_a}{z_i e N_A}$\n",
    "\n",
    "Flux is related to the change in concentration over time via:\n",
    "\n",
    "$$\\textbf{J} = - D \\frac{\\partial c}{\\partial x}$$\n",
    "\n",
    "So this gives us Neumann boundaries."
   ]
  },
  {
   "cell_type": "markdown",
   "id": "53f4d63b",
   "metadata": {},
   "source": [
    "Recall:\n",
    "$$\\frac{\\partial c_i(x,t)}{\\partial t} = \\nabla \\cdot \\frac{D_i c_i}{k_B T}\\nabla\\mu ^0_i + \\nabla \\cdot D_i\\nabla c_i(x, t) + \\nabla \\cdot\\frac{D_i z_i e c_i}{k_B T}\\nabla \\varphi - R_i^{3PB}K\\Lambda _C$$\n",
    "\n",
    "At each time step, for each species $i$,\n",
    "\n",
    "**Step 1)**\n",
    "\n",
    "Calculate the chemical potential gradient term, $\\nabla \\cdot \\frac{D_i c_i}{k_B T}\\nabla\\mu ^0_i$.\n",
    "\n",
    "- Take the Laplacian of $\\mu ^0_i$\n",
    "- Multiply by $\\frac{D_i c_i}{k_B T}$\n",
    "\n",
    "\n",
    "**Step 2)**\n",
    "\n",
    "Calculate the concentration gradient term, $\\nabla \\cdot D_i\\nabla c_i(x, t)$.\n",
    "\n",
    "- Take the Laplacian of $c_i(x, t)$\n",
    "- Multiply by $D_i$\n",
    "\n",
    "\n",
    "**Step 3)**\n",
    "\n",
    "Calculate the electrostatic gradient (the electric field) term, $\\nabla \\cdot\\frac{D_i z_i e c_i}{k_B T}\\nabla \\varphi $.\n",
    "\n",
    "- Take the Laplacian of $\\varphi$\n",
    "- Multiply by $\\frac{D_i z_i e c_i}{k_B T}$\n",
    "\n",
    "\n",
    "**Step 4)**\n",
    "\n",
    "Calculate the sink term, $R_i^{3PB}K\\Lambda _C$.\n",
    "\n",
    "- Compute the interface locator function, $\\Lambda_C$, for every point on the domain\n",
    "$$ \\Lambda_C = C^2(1-C)^2 $$\n",
    "\n",
    "- K, the normalizing constant, must be integrated for, where the integral is given as:\n",
    "$$ K = 1 / \\int_{-\\infty}^{+\\infty}\\Lambda_C dx$$\n",
    "\n",
    "- Compute $R_i^{3PB}$. Note, this is dependent on the species:\n",
    "    - $R_i^{3PB} = |\\frac{i_a}{N_A e z_i}|$ for $V_O^{\\cdot \\cdot}$, $e'$\n",
    "    - $R_i^{3PB} = 0$ for $Y_{Zr}'$\n",
    "\n",
    "- Compute the sink term\n",
    "\n",
    "**Step 5)** \n",
    "\n",
    "Sum all terms together to update the concentrations.\n"
   ]
  },
  {
   "cell_type": "markdown",
   "id": "5484b86b",
   "metadata": {},
   "source": [
    "---\n",
    "## Summary of Diffusion Loop Steps ##"
   ]
  },
  {
   "cell_type": "markdown",
   "id": "7f184c5f",
   "metadata": {},
   "source": [
    "**At each time step:**\n",
    "\n",
    "1) Solve Cahn-Hilliard for the updated composition parameter, $C$, at every point on the domain\n",
    "\n",
    "2) Compute $\\rho$ and solve Poisson's equation for the updated electrostatic potential, $\\varphi$, at every point on the domain\n",
    "\n",
    "3) Use the interpolation function to compute the $\\mu^o_i$ for every species $i$ at every point on the domain\n",
    "\n",
    "4) Use the diffusion equation to update the concentrations of every species $i$ at every point on the domain"
   ]
  },
  {
   "cell_type": "code",
   "execution_count": 23,
   "id": "184b8216",
   "metadata": {},
   "outputs": [],
   "source": [
    "import numpy as np\n",
    "import matplotlib.pyplot as plt\n",
    "\n",
    "# ------------------------------------------------------------------------------\n",
    "# Parameters & Constants for Phase-Field Model\n",
    "# ------------------------------------------------------------------------------\n",
    "\n",
    "M = 1.0 #mobility constant, m^5/(J*s)\n",
    "kappa = 1.0 #gradient energy constant, J/m\n",
    "xmax = 1000.0 #physical domain size, m\n",
    "nx = 1000 #number of spatial discretization points\n",
    "dx = xmax/(nx-1) #spatial discretization step, m\n",
    "x = np.linspace(0, xmax, nx) #spatial grid\n",
    "dt = 1e-5 #time step, s\n",
    "nsteps = 2000 #number of time steps\n",
    "trans = 100 #number of transition steps between two phases\n",
    "\n",
    "# ------------------------------------------------------------------------------\n",
    "# Parameters & Constants for Diffusion \n",
    "# ------------------------------------------------------------------------------\n",
    "\n",
    "from scipy.constants import epsilon_0, elementary_charge as e, Avogadro as NA, k as kB\n",
    "\n",
    "epsilon_r = 40.0 #relative permittivity\n",
    "epsilon = epsilon_0 * epsilon_r #absolute permittivity, F/m\n",
    "i_a = 0 #-8e6           # Applied current density [A/m²]\n",
    "sigma = 1.0          #conductivity (for the current density to electric field proportionality)\n",
    "\n",
    "# ------------------------------------------------------------------------------\n",
    "# Reference values from literature\n",
    "# ------------------------------------------------------------------------------\n",
    "c_ref = 1660               # mol/m^3, reference concentration\n",
    "rho_ref = 1.6e6            # C/m^3, reference charge density\n",
    "interface_width = 4.0      # nm, width of the phase-field interface (0 < C < 1)\n",
    "lambda_D = 1.0             # nm, Debye length\n",
    "T = 1273.0               # K, temperature"
   ]
  },
  {
   "cell_type": "code",
   "execution_count": 24,
   "id": "950aaa8b",
   "metadata": {},
   "outputs": [
    {
     "name": "stdout",
     "output_type": "stream",
     "text": [
      "0.0\n"
     ]
    }
   ],
   "source": [
    "# make a dictionary with the dict () constructor for all species\n",
    "\n",
    "charges = {\n",
    "    \"vac\" : 2.0,\n",
    "    \"elec\" : -1.0,\n",
    "    \"yzr\" : -1.0,\n",
    "}\n",
    "\n",
    "# concentrations -> [mol/m³]\n",
    "\n",
    "vac = {\n",
    "    \"mu_YSZ\" : 0.12,\n",
    "    \"mu_anode\" : 0.2,\n",
    "    \"diffusivity\" : 1.0e-8,\n",
    "    \"bulk_anode_conc\" : 83.0,\n",
    "    \"bulk_YSZ_conc\" : 830.0,\n",
    "    \"rate_constant\" : abs(i_a / e * NA * charges[\"vac\"]),\n",
    "}\n",
    "\n",
    "elec = {\n",
    "    \"mu_YSZ\" : 0.0,\n",
    "    \"mu_anode\" : 0.0,\n",
    "    \"diffusivity\" : 2.0e-4,\n",
    "    \"bulk_YSZ_conc\" : 0.0,\n",
    "    \"bulk_anode_conc\" : charges[\"vac\"] * vac[\"bulk_anode_conc\"],\n",
    "    \"rate_constant\" : abs(i_a / e * NA * charges[\"elec\"]),\n",
    "}\n",
    "\n",
    "yzr = {\n",
    "    \"mu_YSZ\" : 0.0,\n",
    "    \"mu_anode\" : 0.0,\n",
    "    \"diffusivity\" : 1.0e-8,\n",
    "    \"bulk_YSZ_conc\" : 1660.0,\n",
    "    \"bulk_anode_conc\" : 0.0,\n",
    "    \"rate_constant\" : 0.0,\n",
    "}\n",
    "\n",
    "conc_boundaries = {\n",
    "    \"vac\" : dict(YSZ = - ( i_a / e * NA * charges[\"vac\"] ) / vac[\"diffusivity\"], anode = 0.0),\n",
    "    \"elec\" : dict(YSZ = 0.0, anode = - (i_a / e * NA * charges[\"elec\"]) / vac[\"diffusivity\"]),\n",
    "    \"yzr\" : dict(YSZ = 0.0, anode = 0.0),\n",
    "}\n",
    "\n",
    "print(conc_boundaries[\"elec\"][\"YSZ\"])"
   ]
  },
  {
   "cell_type": "code",
   "execution_count": null,
   "id": "642cc172",
   "metadata": {},
   "outputs": [],
   "source": [
    "#intialize the composition field\n",
    "\n",
    "comp = np.zeros(nx) #composition field\n",
    "\n",
    "comp[0:int(nx/2 - trans/2)] = 0.0 #left phase\n",
    "\n",
    "comp[int(nx/2 + trans/2):nx] = 1.0 #right phase\n",
    "\n",
    "for i in range (trans):\n",
    "    comp[int(nx/2 - trans/2 + i)] = 1.0/trans * i #linear transition\n",
    "\n",
    "plt.plot(x, comp)\n",
    "plt.show()"
   ]
  },
  {
   "cell_type": "code",
   "execution_count": 26,
   "id": "0f686767",
   "metadata": {},
   "outputs": [
    {
     "data": {
      "image/png": "[encoded data removed]",
      "text/plain": [
       "<Figure size 640x480 with 1 Axes>"
      ]
     },
     "metadata": {},
     "output_type": "display_data"
    }
   ],
   "source": [
    "#initialize the concentrations of each species and electrostatic potential of the system\n",
    "\n",
    "# ------------------------------------------------------------------------------\n",
    "# Vacancy concentrations [mol/m³]\n",
    "# ------------------------------------------------------------------------------\n",
    "\n",
    "c_vac = np.zeros(nx)\n",
    "\n",
    "c_vac[0:int(nx/2)] = vac[\"bulk_YSZ_conc\"]\n",
    "c_vac[int(nx/2):nx] = vac[\"bulk_anode_conc\"]\n",
    "\n",
    "# ------------------------------------------------------------------------------\n",
    "# Yttrium-stabilized Zirconium concentrations [mol/m³]\n",
    "# ------------------------------------------------------------------------------\n",
    "\n",
    "c_yzr = np.zeros(nx)\n",
    "\n",
    "c_yzr[0:int(nx/2)] = yzr[\"bulk_YSZ_conc\"]\n",
    "c_yzr[int(nx/2):nx] = yzr[\"bulk_anode_conc\"]\n",
    "\n",
    "# ------------------------------------------------------------------------------\n",
    "# Electron concentrations [mol/m³]\n",
    "# ------------------------------------------------------------------------------\n",
    "\n",
    "c_elec = np.zeros(nx)\n",
    "\n",
    "c_elec[0:int(nx/2)] = elec[\"bulk_YSZ_conc\"]\n",
    "c_elec[int(nx/2):nx] = elec[\"bulk_anode_conc\"]\n",
    "\n",
    "# ------------------------------------------------------------------------------\n",
    "# Initialize the electrostatic potential field\n",
    "# ------------------------------------------------------------------------------\n",
    "\n",
    "varphi = np.zeros(nx) #potential field\n",
    "\n",
    "# ------------------------------------------------------------------------------\n",
    "# plot to see what these look like\n",
    "\n",
    "plt.plot(x, c_yzr, label='c_yzr')\n",
    "plt.plot(x, c_vac, label='c_vac')\n",
    "plt.plot(x, c_elec, label='c_elec')\n",
    "plt.legend()\n",
    "plt.show()\n"
   ]
  },
  {
   "cell_type": "code",
   "execution_count": 27,
   "id": "e12f333b",
   "metadata": {},
   "outputs": [],
   "source": [
    "def laplacian(f, deltax): # for the cahn-hilliard equation\n",
    "    lap = np.zeros_like(f)\n",
    "    for i in range(1, len(f)-1):\n",
    "        lap[i] = (f[i-1] - 2*f[i] + f[i+1]) / (deltax ** 2)\n",
    "    return lap\n",
    "# mwehehehehe\n",
    "# neumann\n",
    "\n",
    "def laplacian_chem(f, deltax, mu_YSZ, mu_anode):\n",
    "    f[0] = mu_YSZ\n",
    "    f[-1] = mu_anode\n",
    "    lap = np.zeros_like(f)\n",
    "    for i in range(1, len(f)-1):\n",
    "        lap[i] = (f[i-1] - 2*f[i] + f[i+1]) / (deltax ** 2)\n",
    "    return lap\n",
    "\n",
    "def laplacian_conc(f, deltax, left, right):\n",
    "    lap = np.zeros_like(f)\n",
    "\n",
    "    for i in range(1, len(f)-1):\n",
    "\n",
    "        lap[i] = (f[i-1] - 2*f[i] + f[i+1]) / (deltax ** 2)\n",
    "    \n",
    "    # use ghost point to enforce boundary conditions on the left and right sides (again, neumann)\n",
    "    lap[0] = (f[1] - 2*f[0] + (f[1] - 2 * deltax * left)) / (deltax ** 2)\n",
    "    lap[-1] = (f[-2] - 2*f[-1] + (f[-2] + 2 * deltax * right)) / (deltax ** 2)\n",
    "    return lap\n",
    "\n",
    "def laplacian_elec(f, deltax):\n",
    "    # Dirichlet boundary condition for the electric potential for electrolyte\n",
    "    lap = np.zeros_like(f)\n",
    "    f[0] = 0.0\n",
    "    for i in range(1, len(f)-1):\n",
    "        lap[i] = (f[i-1] - 2*f[i] + f[i+1]) / (deltax ** 2)\n",
    "    lap[-1] = (f[-2] - 2*f[-1] + (f[-2] + 2 * deltax * i_a / sigma)) / (deltax ** 2)\n",
    "\n",
    "    return lap"
   ]
  },
  {
   "cell_type": "code",
   "execution_count": 28,
   "id": "bc39ba00",
   "metadata": {},
   "outputs": [],
   "source": [
    "# let's solve poisson's equation\n",
    "\n",
    "# ------------------------------------------------------------------------------\n",
    "# function to calculate the charge density, rho\n",
    "\n",
    "# function to calculate the potential, varphi \n",
    "def gauss_seidel_1D(varphi, rho, maxiter = 10000, tol = 1e-4):\n",
    "    \n",
    "    # Get the length of potential array (1-D)\n",
    "    nx = len(varphi)\n",
    "    \n",
    "    # Iterate until convergence or maximum iterations reached\n",
    "    for it in range(maxiter):\n",
    "        varphi_old = varphi.copy()\n",
    "\n",
    "        varphi[0] = 0.0\n",
    "        \n",
    "        varphi[-1] = varphi[-2] + dx * i_a/sigma\n",
    "\n",
    "        # Update the potential using the Gauss-Seidel formula\n",
    "        for j in range(1, nx-1):\n",
    "                varphi[j] = 0.5 * (varphi[j+1] + varphi[j-1] - rho[j] * dx**2 / epsilon)\n",
    "        \n",
    "        # Check for convergence\n",
    "        if np.max(np.abs(varphi - varphi_old)) < tol:\n",
    "            print(f\"Converged after {it} iterations.\")\n",
    "            return varphi\n",
    "    \n",
    "    print(\"Maximum iterations reached without convergence.\")\n",
    "    return varphi"
   ]
  },
  {
   "cell_type": "code",
   "execution_count": 29,
   "id": "7b82f8ec",
   "metadata": {},
   "outputs": [],
   "source": [
    "# Okay now for the chemical potential\n",
    "\n",
    "def interpolator(C):\n",
    "    # Interpolation function for the chemical potential, polynomial\n",
    "    h = C**3 * ( 6 * C**2 - 15 * C + 10)\n",
    "    return h\n",
    "    \n",
    "# function to calculate the chemical potential, mu\n",
    "def chemical_potential(C, mu_YSZ, mu_anode):\n",
    "    mu = mu_YSZ + (mu_anode - mu_YSZ) * interpolator(C)\n",
    "    return mu"
   ]
  },
  {
   "cell_type": "code",
   "execution_count": 30,
   "id": "98164193",
   "metadata": {},
   "outputs": [],
   "source": [
    "# diffusion equation time! \n",
    "# function to calculate the diffusion equation (i.e. update the concentration!)\n",
    "\n",
    "def interface_locator(C):\n",
    "    # ensures interface reaction only occurs at interface\n",
    "    lambda_C = C ** 2 * (1 - C) ** 2\n",
    "    return lambda_C\n",
    "\n",
    "def diffusion (varphi, C, c, mu, D, z, R, left, right, mu_YSZ, mu_anode):\n",
    "    # first term = chemical potential term\n",
    "    chem_term = ( D * c / ( kB * T )) * laplacian_chem(mu, dx, mu_YSZ, mu_anode)\n",
    "\n",
    "    # second term = concentration gradient term\n",
    "    conc_term = D * laplacian_conc(c, dx, left, right)\n",
    "\n",
    "    # third term = electrostatic potential term\n",
    "    elec_term = ( D * z * e / ( kB * T )) * laplacian_elec(varphi, dx)\n",
    "\n",
    "    # fourth term = sink term\n",
    "    # need to first define K (normalization constant)\n",
    "    integral = np.trapz(interface_locator(C), dx = dx) \n",
    "    K  = 1.0 / integral\n",
    "    sink_term = R * K * interface_locator(C)\n",
    "\n",
    "    c += (chem_term + conc_term + elec_term + sink_term) * dt\n",
    "\n",
    "    return c\n",
    "\n",
    "# something may be iffy with the K term"
   ]
  },
  {
   "cell_type": "code",
   "execution_count": 31,
   "id": "fec9018e",
   "metadata": {},
   "outputs": [
    {
     "data": {
      "image/png": "[encoded data removed]",
      "text/plain": [
       "<Figure size 640x480 with 1 Axes>"
      ]
     },
     "metadata": {},
     "output_type": "display_data"
    }
   ],
   "source": [
    "plt.plot(x, comp, label = \"comp\")\n",
    "plt.plot(x, c_vac, label = \"c_vac\")\n",
    "plt.plot(x, c_yzr, label = \"c_yzr\")\n",
    "#plt.plot(x, c_elec, label = \"c_elec\")\n",
    "plt.legend()\n",
    "plt.show()"
   ]
  },
  {
   "cell_type": "code",
   "execution_count": 32,
   "id": "c952cf12",
   "metadata": {},
   "outputs": [
    {
     "name": "stdout",
     "output_type": "stream",
     "text": [
      "Converged after 0 iterations.\n"
     ]
    },
    {
     "name": "stderr",
     "output_type": "stream",
     "text": [
      "/var/folders/p7/t66d5djx00773wf5br0ql8_m0000gn/T/ipykernel_27225/3299803805.py:21: DeprecationWarning: `trapz` is deprecated. Use `trapezoid` instead, or one of the numerical integration functions in `scipy.integrate`.\n",
      "  integral = np.trapz(interface_locator(C), dx = dx)\n"
     ]
    },
    {
     "name": "stdout",
     "output_type": "stream",
     "text": [
      "Maximum iterations reached without convergence.\n",
      "Maximum iterations reached without convergence.\n"
     ]
    },
    {
     "ename": "KeyboardInterrupt",
     "evalue": "",
     "output_type": "error",
     "traceback": [
      "\u001b[0;31m---------------------------------------------------------------------------\u001b[0m",
      "\u001b[0;31mKeyboardInterrupt\u001b[0m                         Traceback (most recent call last)",
      "Cell \u001b[0;32mIn[32], line 19\u001b[0m\n\u001b[1;32m     17\u001b[0m \u001b[38;5;66;03m#for Poisson's equation (not species-specific)\u001b[39;00m\n\u001b[1;32m     18\u001b[0m rho \u001b[38;5;241m=\u001b[39m e \u001b[38;5;241m*\u001b[39m NA \u001b[38;5;241m*\u001b[39m ( charges[\u001b[38;5;124m\"\u001b[39m\u001b[38;5;124mvac\u001b[39m\u001b[38;5;124m\"\u001b[39m] \u001b[38;5;241m*\u001b[39m c_vac \u001b[38;5;241m+\u001b[39m charges[\u001b[38;5;124m\"\u001b[39m\u001b[38;5;124melec\u001b[39m\u001b[38;5;124m\"\u001b[39m] \u001b[38;5;241m*\u001b[39m c_elec \u001b[38;5;241m+\u001b[39m charges[\u001b[38;5;124m\"\u001b[39m\u001b[38;5;124myzr\u001b[39m\u001b[38;5;124m\"\u001b[39m] \u001b[38;5;241m*\u001b[39m c_yzr )\n\u001b[0;32m---> 19\u001b[0m varphi \u001b[38;5;241m=\u001b[39m \u001b[43mgauss_seidel_1D\u001b[49m\u001b[43m(\u001b[49m\u001b[43mvarphi\u001b[49m\u001b[43m,\u001b[49m\u001b[43m \u001b[49m\u001b[43mrho\u001b[49m\u001b[43m)\u001b[49m\n\u001b[1;32m     21\u001b[0m \u001b[38;5;66;03m#find the chemical potential for every species:\u001b[39;00m\n\u001b[1;32m     22\u001b[0m mu_vac \u001b[38;5;241m=\u001b[39m chemical_potential(comp, vac[\u001b[38;5;124m\"\u001b[39m\u001b[38;5;124mmu_YSZ\u001b[39m\u001b[38;5;124m\"\u001b[39m], vac[\u001b[38;5;124m\"\u001b[39m\u001b[38;5;124mmu_anode\u001b[39m\u001b[38;5;124m\"\u001b[39m])\n",
      "Cell \u001b[0;32mIn[28], line 22\u001b[0m, in \u001b[0;36mgauss_seidel_1D\u001b[0;34m(varphi, rho, maxiter, tol)\u001b[0m\n\u001b[1;32m     20\u001b[0m \u001b[38;5;66;03m# Update the potential using the Gauss-Seidel formula\u001b[39;00m\n\u001b[1;32m     21\u001b[0m \u001b[38;5;28;01mfor\u001b[39;00m j \u001b[38;5;129;01min\u001b[39;00m \u001b[38;5;28mrange\u001b[39m(\u001b[38;5;241m1\u001b[39m, nx\u001b[38;5;241m-\u001b[39m\u001b[38;5;241m1\u001b[39m):\n\u001b[0;32m---> 22\u001b[0m         varphi[j] \u001b[38;5;241m=\u001b[39m \u001b[38;5;241m0.5\u001b[39m \u001b[38;5;241m*\u001b[39m (varphi[j\u001b[38;5;241m+\u001b[39m\u001b[38;5;241m1\u001b[39m] \u001b[38;5;241m+\u001b[39m varphi[j\u001b[38;5;241m-\u001b[39m\u001b[38;5;241m1\u001b[39m] \u001b[38;5;241m-\u001b[39m rho[j] \u001b[38;5;241m*\u001b[39m dx\u001b[38;5;241m*\u001b[39m\u001b[38;5;241m*\u001b[39m\u001b[38;5;241m2\u001b[39m \u001b[38;5;241m/\u001b[39m epsilon)\n\u001b[1;32m     24\u001b[0m \u001b[38;5;66;03m# Check for convergence\u001b[39;00m\n\u001b[1;32m     25\u001b[0m \u001b[38;5;28;01mif\u001b[39;00m np\u001b[38;5;241m.\u001b[39mmax(np\u001b[38;5;241m.\u001b[39mabs(varphi \u001b[38;5;241m-\u001b[39m varphi_old)) \u001b[38;5;241m<\u001b[39m tol:\n",
      "\u001b[0;31mKeyboardInterrupt\u001b[0m: "
     ]
    }
   ],
   "source": [
    "# i think i can just do the for loop now!\n",
    "\n",
    "varphi = np.zeros_like(comp)\n",
    "nsteps = 10\n",
    "\n",
    "for time in range(nsteps):\n",
    "    #for the Cahn-Hilliard equation (not species-specific)\n",
    "    #step 1: calculate the laplacian of the concentration field\n",
    "    lapc = laplacian(comp, dx)\n",
    "    #step 2: compute the chemical potential (composition) at each point\n",
    "    mu_comp = 4.0 * comp * (1.0 - comp) * (1.0 - 2.0 * comp) - 2.0 * kappa * lapc\n",
    "    #step 3: find the laplacian of the chemical potential\n",
    "    lap_mu = laplacian(mu_comp, dx)\n",
    "    #step 4: update  the concentration field 1: calculate the laplacian of the concentration field\n",
    "    comp += dt * M * lap_mu\n",
    "\n",
    "    #for Poisson's equation (not species-specific)\n",
    "    rho = e * NA * ( charges[\"vac\"] * c_vac + charges[\"elec\"] * c_elec + charges[\"yzr\"] * c_yzr )\n",
    "    varphi = gauss_seidel_1D(varphi, rho)\n",
    "\n",
    "    #find the chemical potential for every species:\n",
    "    mu_vac = chemical_potential(comp, vac[\"mu_YSZ\"], vac[\"mu_anode\"])\n",
    "    mu_elec = chemical_potential(comp, elec[\"mu_YSZ\"], elec[\"mu_anode\"])\n",
    "    mu_yzr = chemical_potential(comp, yzr[\"mu_YSZ\"], yzr[\"mu_anode\"])\n",
    "\n",
    "    #update the concentration for every species: \n",
    "    c_vac = diffusion(varphi, comp, c_vac, mu_vac, vac[\"diffusivity\"], charges[\"vac\"], vac[\"rate_constant\"], conc_boundaries[\"vac\"][\"YSZ\"], conc_boundaries[\"vac\"][\"anode\"], vac[\"mu_YSZ\"], vac[\"mu_anode\"])\n",
    "    c_elec = diffusion(varphi, comp, c_elec, mu_elec, elec[\"diffusivity\"], charges[\"elec\"], elec[\"rate_constant\"], conc_boundaries[\"elec\"][\"YSZ\"], conc_boundaries[\"elec\"][\"anode\"], elec[\"mu_YSZ\"], elec[\"mu_anode\"])\n",
    "    c_yzr = diffusion(varphi, comp, c_yzr, mu_yzr, yzr[\"diffusivity\"], charges[\"yzr\"], yzr[\"rate_constant\"], conc_boundaries[\"yzr\"][\"YSZ\"], conc_boundaries[\"yzr\"][\"anode\"], yzr[\"mu_YSZ\"], yzr[\"mu_anode\"])\n",
    "\n",
    "plt.plot(x, c_vac)\n",
    "plt.plot(x, c_yzr)\n",
    "plt.plot(x, c_elec)\n",
    "plt.legend()\n",
    "plt.show()"
   ]
  }
 ],
 "metadata": {
  "kernelspec": {
   "display_name": "Python 3",
   "language": "python",
   "name": "python3"
  },
  "language_info": {
   "codemirror_mode": {
    "name": "ipython",
    "version": 3
   },
   "file_extension": ".py",
   "mimetype": "text/x-python",
   "name": "python",
   "nbconvert_exporter": "python",
   "pygments_lexer": "ipython3",
   "version": "3.11.10"
  }
 },
 "nbformat": 4,
 "nbformat_minor": 5
}
